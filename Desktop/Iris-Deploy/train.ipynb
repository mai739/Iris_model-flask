{
 "cells": [
  {
   "cell_type": "code",
   "execution_count": 2,
   "id": "26b40b9a",
   "metadata": {},
   "outputs": [
    {
     "name": "stdout",
     "output_type": "stream",
     "text": [
      "Model accuracy: 1.00\n",
      "✅ Training complete. Model saved as 'iris_model.sav'\n"
     ]
    }
   ],
   "source": [
    "import pandas as pd\n",
    "from sklearn.model_selection import train_test_split\n",
    "from sklearn.preprocessing import LabelEncoder\n",
    "from sklearn.ensemble import RandomForestClassifier\n",
    "import pickle\n",
    "\n",
    "# 1. โหลดข้อมูล\n",
    "data = pd.read_csv(\"iris.csv\")\n",
    "\n",
    "# 2. แยก features (X) และ label (y)\n",
    "X = data.drop(\"species\", axis=1)\n",
    "y = data[\"species\"]\n",
    "\n",
    "# 3. แปลงชื่อ species เป็นตัวเลข\n",
    "le = LabelEncoder()\n",
    "y = le.fit_transform(y)\n",
    "\n",
    "# 4. แบ่งชุด train/test\n",
    "X_train, X_test, y_train, y_test = train_test_split(X, y, test_size=0.2, random_state=42)\n",
    "\n",
    "# 5. สร้างและฝึกโมเดล\n",
    "model = RandomForestClassifier(n_estimators=100, random_state=42)\n",
    "model.fit(X_train, y_train)\n",
    "\n",
    "# 6. ทดสอบความแม่นยำ\n",
    "acc = model.score(X_test, y_test)\n",
    "print(f\"Model accuracy: {acc:.2f}\")\n",
    "\n",
    "# 7. บันทึกโมเดลเป็น .sav\n",
    "with open(\"iris_model.sav\", \"wb\") as f:\n",
    "    pickle.dump(model, f)\n",
    "\n",
    "# 8. บันทึก label encoder เผื่อใช้งานตอนทำนาย\n",
    "with open(\"label_encoder.sav\", \"wb\") as f:\n",
    "    pickle.dump(le, f)\n",
    "\n",
    "print(\"✅ Training complete. Model saved as 'iris_model.sav'\")\n"
   ]
  }
 ],
 "metadata": {
  "kernelspec": {
   "display_name": ".venv",
   "language": "python",
   "name": "python3"
  },
  "language_info": {
   "codemirror_mode": {
    "name": "ipython",
    "version": 3
   },
   "file_extension": ".py",
   "mimetype": "text/x-python",
   "name": "python",
   "nbconvert_exporter": "python",
   "pygments_lexer": "ipython3",
   "version": "3.12.7"
  }
 },
 "nbformat": 4,
 "nbformat_minor": 5
}
